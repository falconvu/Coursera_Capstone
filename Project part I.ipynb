{
    "cells": [
        {
            "cell_type": "markdown",
            "metadata": {
                "collapsed": true
            },
            "source": "## Business Problem"
        },
        {
            "cell_type": "markdown",
            "metadata": {},
            "source": "**Problem**: The client is looking to open a Japanese restaurant in Toronto, and asked for our recommendation."
        },
        {
            "cell_type": "markdown",
            "metadata": {},
            "source": "**Data**: The neighborhood data of Toronto will be scraped from wikipedia, and each neighborhood will be explored using Foursquare API in 2 steps:\n1. Search 'japanese restaurant' for each neighborhood to get a list of most japanese restaurants in Toronto\n2. Search 'restaurant' for each neighborhood to get a list of restaurants, i.e. of different categories, in Toronto"
        },
        {
            "cell_type": "markdown",
            "metadata": {},
            "source": "The data collected will be visualized on a map and presented to the client. Recommendation will be provided based on observing the location of current japanese restaurants (trend) or areas with other kind of restaurants and no japanese restaurant yet (opportunity)."
        },
        {
            "cell_type": "code",
            "execution_count": null,
            "metadata": {},
            "outputs": [],
            "source": ""
        }
    ],
    "metadata": {
        "kernelspec": {
            "display_name": "Python 3.6",
            "language": "python",
            "name": "python3"
        },
        "language_info": {
            "codemirror_mode": {
                "name": "ipython",
                "version": 3
            },
            "file_extension": ".py",
            "mimetype": "text/x-python",
            "name": "python",
            "nbconvert_exporter": "python",
            "pygments_lexer": "ipython3",
            "version": "3.6.8"
        }
    },
    "nbformat": 4,
    "nbformat_minor": 1
}