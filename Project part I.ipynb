{
    "cells": [
        {
            "cell_type": "markdown",
            "metadata": {
                "collapsed": true
            },
            "source": "## Business Problem"
        },
        {
            "cell_type": "markdown",
            "metadata": {},
            "source": "**Problem: Finding a location to live and open a Japanese restaurant in Toronto.**"
        },
        {
            "cell_type": "markdown",
            "metadata": {},
            "source": "**Target audience:**\n    \nThe client has just moved to from Newyork, US to Toronto, Canada. \n* She wants to open a Japanese restaurant here and would like to get some insights on the neighborhoods of Toronto.\n* She also wants to find a place that is similar to her previous neighborhood, Flatiron in Newyork, to ensure smooth transition.\n* Lastly, she has priority for safety as she lives alone and is new to the city."
        },
        {
            "cell_type": "markdown",
            "metadata": {},
            "source": "**Data**: \n\nA. For this project, we would first make a list of neighborhoods for Toronto, with geographical coordinates.\nThe neighborhood names for Toronto will be scraped from wikipedia at: \nhttps://en.wikipedia.org/wiki/List_of_postal_codes_of_Canada:_M and geographical coordinates are obtained from: https://cocl.us/Geospatial_data\n\nThe neighborhood names and geographical coordinates for Flatiron, Newyork can be searched online.\n\nB. Venue data of the neighborhoods in Toronto and in Flatiron, Newyork will be collected using Foursquare API, especially:\n   * Search 'japanese restaurant' for each neighborhood to get a list of most japanese restaurants in Toronto\n   * Search 'restaurant' for each neighborhood to get a list of restaurants, i.e. of different categories, in Toronto\n   * Explore each neighborhood to get a list of venues that will define the characteristics of each neighborhood in Toronto, to be compare with the Flatiron neighborhood in Newyork\n\nC. Additional data on crime rate in Toronto will also be downloaded from Toronto Police Service for further consideration: http://data.torontopolice.on.ca/datasets/neighbourhood-crime-rates-boundary-file-?page=2\n\nThe data collected will be visualized on a map and presented to the client. Recommendation will be provided based on observing the location of current japanese restaurants (trend) or areas with other kind of restaurants and no japanese restaurant yet (opportunity).\nThe neighborhoods in Toronto together with Flatiron, Newyork, would be clustered base on their venue profile, to select the neighborhoods that resemble Flatiron in Newyork.\nA heatmap of crime rate in Toronto would also be created."
        }
    ],
    "metadata": {
        "kernelspec": {
            "display_name": "Python 3.6",
            "language": "python",
            "name": "python3"
        },
        "language_info": {
            "codemirror_mode": {
                "name": "ipython",
                "version": 3
            },
            "file_extension": ".py",
            "mimetype": "text/x-python",
            "name": "python",
            "nbconvert_exporter": "python",
            "pygments_lexer": "ipython3",
            "version": "3.6.8"
        }
    },
    "nbformat": 4,
    "nbformat_minor": 1
}