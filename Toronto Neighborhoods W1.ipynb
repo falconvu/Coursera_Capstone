{
    "cells": [
        {
            "cell_type": "code",
            "execution_count": 3,
            "metadata": {},
            "outputs": [
                {
                    "name": "stdout",
                    "output_type": "stream",
                    "text": "Solving environment: done\n\n## Package Plan ##\n\n  environment location: /opt/conda/envs/Python36\n\n  added / updated specs: \n    - beautifulsoup4\n    - html5lib\n    - requests\n\n\nThe following packages will be downloaded:\n\n    package                    |            build\n    ---------------------------|-----------------\n    html5lib-1.0.1             |             py_0          89 KB  anaconda\n    requests-2.22.0            |           py36_1          90 KB  anaconda\n    ------------------------------------------------------------\n                                           Total:         179 KB\n\nThe following packages will be UPDATED:\n\n    html5lib: 1.0.1-py_0    --> 1.0.1-py_0    anaconda\n    requests: 2.21.0-py36_0 --> 2.22.0-py36_1 anaconda\n\n\nDownloading and Extracting Packages\nhtml5lib-1.0.1       | 89 KB     | ##################################### | 100% \nrequests-2.22.0      | 90 KB     | ##################################### | 100% \nPreparing transaction: done\nVerifying transaction: done\nExecuting transaction: done\n"
                }
            ],
            "source": "#Install the third-party libraries for web scraping\n!conda install -c anaconda beautifulsoup4 html5lib requests"
        },
        {
            "cell_type": "code",
            "execution_count": 54,
            "metadata": {},
            "outputs": [],
            "source": "#Scrape wikipedia website\nimport requests\nfrom bs4 import BeautifulSoup\n\nURL = \"https://en.wikipedia.org/wiki/List_of_postal_codes_of_Canada:_M\"\nr = requests.get(URL) \nsoup = BeautifulSoup(r.content, 'html5lib') \n\npostcodes=[]\n  \ntable = soup.find('table') \n\nfor row in table.find_all('tr'): \n    cols = row.find_all('td') \n    postcode=[]\n    for col in cols:\n        postcode.append(col.text.rstrip('\\n'))\n    postcodes.append(postcode)"
        },
        {
            "cell_type": "code",
            "execution_count": 86,
            "metadata": {},
            "outputs": [],
            "source": "#Scrape wikipedia website\nimport requests\nfrom bs4 import BeautifulSoup\n\nURL = \"https://en.wikipedia.org/wiki/List_of_postal_codes_of_Canada:_M\"\nr = requests.get(URL) \nsoup = BeautifulSoup(r.content, 'html5lib') \n\npostcodes=[]\n  \ntable = soup.find('table') \n\ncurrent_pc=\"\"\n\nfor row in table.find_all('tr'): \n    cols = row.find_all('td') \n    postcode=['','','']\n    for id,col in enumerate(cols):\n        if (id==0)&(col.text==''):\n            break\n        elif (id==2)&(col.text==\"Not assigned\\n\"):\n            postcode[2]=postcode[1]\n        else:    \n            postcode[id]=col.text.rstrip('\\n')\n    \n    if (postcode[1]!=\"Not assigned\")&(postcode[0]!=''):    # if valid postcode \n        if (postcode[0]!=current_pc):   # is new, add to list and update current post code\n            postcodes.append(postcode)\n            current_pc=postcode[0]\n        else: # if same post code, add neighborhood name to 3rd column\n            postcodes[-1][-1]+=', '+postcode[2]      "
        },
        {
            "cell_type": "code",
            "execution_count": 88,
            "metadata": {},
            "outputs": [
                {
                    "data": {
                        "text/plain": "(103, 3)"
                    },
                    "execution_count": 88,
                    "metadata": {},
                    "output_type": "execute_result"
                }
            ],
            "source": "#Save data to pandas dataframe\nimport pandas as pd\n\ndf = df_backup = pd.DataFrame(postcodes, columns=['PostalCode','Borough','Neighborhood'])\n\ndf.shape"
        }
    ],
    "metadata": {
        "kernelspec": {
            "display_name": "Python 3.6",
            "language": "python",
            "name": "python3"
        },
        "language_info": {
            "codemirror_mode": {
                "name": "ipython",
                "version": 3
            },
            "file_extension": ".py",
            "mimetype": "text/x-python",
            "name": "python",
            "nbconvert_exporter": "python",
            "pygments_lexer": "ipython3",
            "version": "3.6.8"
        }
    },
    "nbformat": 4,
    "nbformat_minor": 1
}